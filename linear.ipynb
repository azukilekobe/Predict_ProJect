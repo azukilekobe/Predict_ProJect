{
 "cells": [
  {
   "cell_type": "code",
   "execution_count": 954,
   "metadata": {},
   "outputs": [],
   "source": [
    "import pandas as pd\n",
    "import numpy as np\n",
    "\n",
    "import matplotlib.pyplot as plt\n",
    "%matplotlib inline\n",
    "import seaborn as sns\n",
    "\n",
    "# Pipeline\n",
    "from sklearn.pipeline import make_pipeline\n",
    "from sklearn.compose import make_column_transformer\n",
    "\n",
    "# preprocessing\n",
    "from sklearn.ensemble import RandomForestClassifier\n",
    "from sklearn.linear_model import LogisticRegression\n",
    "from sklearn.preprocessing import OneHotEncoder\n",
    "from sklearn.preprocessing import OrdinalEncoder\n",
    "from sklearn.preprocessing import StandardScaler\n",
    "from sklearn.model_selection import train_test_split, GridSearchCV\n",
    "from sklearn.linear_model import LinearRegression\n",
    "from sklearn.model_selection import train_test_split\n",
    "from geopy import distance\n",
    "import os\n",
    "from sklearn.linear_model import Ridge"
   ]
  },
  {
   "cell_type": "code",
   "execution_count": 955,
   "metadata": {},
   "outputs": [],
   "source": [
    "training = pd.read_csv(\"Train.csv\")\n",
    "riders = pd.read_csv(\"Riders.csv\")\n",
    "testing = pd.read_csv(\"Test.csv\")\n",
    "submission = pd.read_csv(\"SampleSubmission.csv\")\n",
    "variables = pd.read_csv(\"VariableDefinitions.csv\")"
   ]
  },
  {
   "cell_type": "code",
   "execution_count": 956,
   "metadata": {},
   "outputs": [],
   "source": [
    "train_riders = training.copy()\n",
    "test_riders  = testing.copy()\n"
   ]
  },
  {
   "cell_type": "code",
   "execution_count": 957,
   "metadata": {},
   "outputs": [
    {
     "name": "stdout",
     "output_type": "stream",
     "text": [
      "train without riders:  (21201, 29)\n",
      "train merged with riders:  (21201, 33)\n",
      "---------------------------------------\n",
      "test without riders:  (7068, 25)\n",
      "test merged with riders:  (7068, 29)\n"
     ]
    }
   ],
   "source": [
    "train_riders = train_riders.merge(riders, how='left', on='Rider Id')\n",
    "test_riders  = test_riders.merge(riders, how='left', on='Rider Id')\n",
    "print('train without riders: ', training.shape)\n",
    "print('train merged with riders: ', train_riders.shape)\n",
    "print('---------------------------------------')\n",
    "print('test without riders: ', testing.shape)\n",
    "print('test merged with riders: ', test_riders.shape)\n"
   ]
  },
  {
   "cell_type": "code",
   "execution_count": 958,
   "metadata": {},
   "outputs": [
    {
     "data": {
      "text/html": [
       "<div>\n",
       "<style scoped>\n",
       "    .dataframe tbody tr th:only-of-type {\n",
       "        vertical-align: middle;\n",
       "    }\n",
       "\n",
       "    .dataframe tbody tr th {\n",
       "        vertical-align: top;\n",
       "    }\n",
       "\n",
       "    .dataframe thead th {\n",
       "        text-align: right;\n",
       "    }\n",
       "</style>\n",
       "<table border=\"1\" class=\"dataframe\">\n",
       "  <thead>\n",
       "    <tr style=\"text-align: right;\">\n",
       "      <th></th>\n",
       "      <th>Order No</th>\n",
       "      <th>User Id</th>\n",
       "      <th>Vehicle Type</th>\n",
       "      <th>Platform Type</th>\n",
       "      <th>Personal or Business</th>\n",
       "      <th>Placement - Day of Month</th>\n",
       "      <th>Placement - Weekday (Mo = 1)</th>\n",
       "      <th>Placement - Time</th>\n",
       "      <th>Confirmation - Day of Month</th>\n",
       "      <th>Confirmation - Weekday (Mo = 1)</th>\n",
       "      <th>...</th>\n",
       "      <th>Pickup Lat</th>\n",
       "      <th>Pickup Long</th>\n",
       "      <th>Destination Lat</th>\n",
       "      <th>Destination Long</th>\n",
       "      <th>Rider Id</th>\n",
       "      <th>Time from Pickup to Arrival</th>\n",
       "      <th>No_Of_Orders</th>\n",
       "      <th>Age</th>\n",
       "      <th>Average_Rating</th>\n",
       "      <th>No_of_Ratings</th>\n",
       "    </tr>\n",
       "  </thead>\n",
       "  <tbody>\n",
       "    <tr>\n",
       "      <th>0</th>\n",
       "      <td>Order_No_4211</td>\n",
       "      <td>User_Id_633</td>\n",
       "      <td>Bike</td>\n",
       "      <td>3</td>\n",
       "      <td>Business</td>\n",
       "      <td>9</td>\n",
       "      <td>5</td>\n",
       "      <td>9:35:46 AM</td>\n",
       "      <td>9</td>\n",
       "      <td>5</td>\n",
       "      <td>...</td>\n",
       "      <td>-1.317755</td>\n",
       "      <td>36.830370</td>\n",
       "      <td>-1.300406</td>\n",
       "      <td>36.829741</td>\n",
       "      <td>Rider_Id_432</td>\n",
       "      <td>745</td>\n",
       "      <td>1637</td>\n",
       "      <td>1309</td>\n",
       "      <td>13.8</td>\n",
       "      <td>549</td>\n",
       "    </tr>\n",
       "    <tr>\n",
       "      <th>1</th>\n",
       "      <td>Order_No_25375</td>\n",
       "      <td>User_Id_2285</td>\n",
       "      <td>Bike</td>\n",
       "      <td>3</td>\n",
       "      <td>Personal</td>\n",
       "      <td>12</td>\n",
       "      <td>5</td>\n",
       "      <td>11:16:16 AM</td>\n",
       "      <td>12</td>\n",
       "      <td>5</td>\n",
       "      <td>...</td>\n",
       "      <td>-1.351453</td>\n",
       "      <td>36.899315</td>\n",
       "      <td>-1.295004</td>\n",
       "      <td>36.814358</td>\n",
       "      <td>Rider_Id_856</td>\n",
       "      <td>1993</td>\n",
       "      <td>396</td>\n",
       "      <td>339</td>\n",
       "      <td>13.6</td>\n",
       "      <td>69</td>\n",
       "    </tr>\n",
       "    <tr>\n",
       "      <th>2</th>\n",
       "      <td>Order_No_1899</td>\n",
       "      <td>User_Id_265</td>\n",
       "      <td>Bike</td>\n",
       "      <td>3</td>\n",
       "      <td>Business</td>\n",
       "      <td>30</td>\n",
       "      <td>2</td>\n",
       "      <td>12:39:25 PM</td>\n",
       "      <td>30</td>\n",
       "      <td>2</td>\n",
       "      <td>...</td>\n",
       "      <td>-1.308284</td>\n",
       "      <td>36.843419</td>\n",
       "      <td>-1.300921</td>\n",
       "      <td>36.828195</td>\n",
       "      <td>Rider_Id_155</td>\n",
       "      <td>455</td>\n",
       "      <td>1023</td>\n",
       "      <td>242</td>\n",
       "      <td>12.5</td>\n",
       "      <td>114</td>\n",
       "    </tr>\n",
       "    <tr>\n",
       "      <th>3</th>\n",
       "      <td>Order_No_9336</td>\n",
       "      <td>User_Id_1402</td>\n",
       "      <td>Bike</td>\n",
       "      <td>3</td>\n",
       "      <td>Business</td>\n",
       "      <td>15</td>\n",
       "      <td>5</td>\n",
       "      <td>9:25:34 AM</td>\n",
       "      <td>15</td>\n",
       "      <td>5</td>\n",
       "      <td>...</td>\n",
       "      <td>-1.281301</td>\n",
       "      <td>36.832396</td>\n",
       "      <td>-1.257147</td>\n",
       "      <td>36.795063</td>\n",
       "      <td>Rider_Id_855</td>\n",
       "      <td>1341</td>\n",
       "      <td>886</td>\n",
       "      <td>283</td>\n",
       "      <td>14.5</td>\n",
       "      <td>113</td>\n",
       "    </tr>\n",
       "    <tr>\n",
       "      <th>4</th>\n",
       "      <td>Order_No_27883</td>\n",
       "      <td>User_Id_1737</td>\n",
       "      <td>Bike</td>\n",
       "      <td>1</td>\n",
       "      <td>Personal</td>\n",
       "      <td>13</td>\n",
       "      <td>1</td>\n",
       "      <td>9:55:18 AM</td>\n",
       "      <td>13</td>\n",
       "      <td>1</td>\n",
       "      <td>...</td>\n",
       "      <td>-1.266597</td>\n",
       "      <td>36.792118</td>\n",
       "      <td>-1.295041</td>\n",
       "      <td>36.809817</td>\n",
       "      <td>Rider_Id_770</td>\n",
       "      <td>1214</td>\n",
       "      <td>2311</td>\n",
       "      <td>872</td>\n",
       "      <td>14.1</td>\n",
       "      <td>533</td>\n",
       "    </tr>\n",
       "  </tbody>\n",
       "</table>\n",
       "<p>5 rows × 33 columns</p>\n",
       "</div>"
      ],
      "text/plain": [
       "         Order No       User Id Vehicle Type  Platform Type  \\\n",
       "0   Order_No_4211   User_Id_633         Bike              3   \n",
       "1  Order_No_25375  User_Id_2285         Bike              3   \n",
       "2   Order_No_1899   User_Id_265         Bike              3   \n",
       "3   Order_No_9336  User_Id_1402         Bike              3   \n",
       "4  Order_No_27883  User_Id_1737         Bike              1   \n",
       "\n",
       "  Personal or Business  Placement - Day of Month  \\\n",
       "0             Business                         9   \n",
       "1             Personal                        12   \n",
       "2             Business                        30   \n",
       "3             Business                        15   \n",
       "4             Personal                        13   \n",
       "\n",
       "   Placement - Weekday (Mo = 1) Placement - Time  Confirmation - Day of Month  \\\n",
       "0                             5       9:35:46 AM                            9   \n",
       "1                             5      11:16:16 AM                           12   \n",
       "2                             2      12:39:25 PM                           30   \n",
       "3                             5       9:25:34 AM                           15   \n",
       "4                             1       9:55:18 AM                           13   \n",
       "\n",
       "   Confirmation - Weekday (Mo = 1)  ... Pickup Lat  Pickup Long  \\\n",
       "0                                5  ...  -1.317755    36.830370   \n",
       "1                                5  ...  -1.351453    36.899315   \n",
       "2                                2  ...  -1.308284    36.843419   \n",
       "3                                5  ...  -1.281301    36.832396   \n",
       "4                                1  ...  -1.266597    36.792118   \n",
       "\n",
       "   Destination Lat Destination Long      Rider Id  \\\n",
       "0        -1.300406        36.829741  Rider_Id_432   \n",
       "1        -1.295004        36.814358  Rider_Id_856   \n",
       "2        -1.300921        36.828195  Rider_Id_155   \n",
       "3        -1.257147        36.795063  Rider_Id_855   \n",
       "4        -1.295041        36.809817  Rider_Id_770   \n",
       "\n",
       "   Time from Pickup to Arrival No_Of_Orders   Age  Average_Rating  \\\n",
       "0                          745         1637  1309            13.8   \n",
       "1                         1993          396   339            13.6   \n",
       "2                          455         1023   242            12.5   \n",
       "3                         1341          886   283            14.5   \n",
       "4                         1214         2311   872            14.1   \n",
       "\n",
       "  No_of_Ratings  \n",
       "0           549  \n",
       "1            69  \n",
       "2           114  \n",
       "3           113  \n",
       "4           533  \n",
       "\n",
       "[5 rows x 33 columns]"
      ]
     },
     "execution_count": 958,
     "metadata": {},
     "output_type": "execute_result"
    }
   ],
   "source": [
    "train_riders.head()"
   ]
  },
  {
   "cell_type": "code",
   "execution_count": 959,
   "metadata": {},
   "outputs": [
    {
     "data": {
      "text/plain": [
       "Order No                                      0.000000\n",
       "User Id                                       0.000000\n",
       "Vehicle Type                                  0.000000\n",
       "Platform Type                                 0.000000\n",
       "Personal or Business                          0.000000\n",
       "Placement - Day of Month                      0.000000\n",
       "Placement - Weekday (Mo = 1)                  0.000000\n",
       "Placement - Time                              0.000000\n",
       "Confirmation - Day of Month                   0.000000\n",
       "Confirmation - Weekday (Mo = 1)               0.000000\n",
       "Confirmation - Time                           0.000000\n",
       "Arrival at Pickup - Day of Month              0.000000\n",
       "Arrival at Pickup - Weekday (Mo = 1)          0.000000\n",
       "Arrival at Pickup - Time                      0.000000\n",
       "Pickup - Day of Month                         0.000000\n",
       "Pickup - Weekday (Mo = 1)                     0.000000\n",
       "Pickup - Time                                 0.000000\n",
       "Arrival at Destination - Day of Month         0.000000\n",
       "Arrival at Destination - Weekday (Mo = 1)     0.000000\n",
       "Arrival at Destination - Time                 0.000000\n",
       "Distance (KM)                                 0.000000\n",
       "Temperature                                  20.593368\n",
       "Precipitation in millimeters                 97.396349\n",
       "Pickup Lat                                    0.000000\n",
       "Pickup Long                                   0.000000\n",
       "Destination Lat                               0.000000\n",
       "Destination Long                              0.000000\n",
       "Rider Id                                      0.000000\n",
       "Time from Pickup to Arrival                   0.000000\n",
       "No_Of_Orders                                  0.000000\n",
       "Age                                           0.000000\n",
       "Average_Rating                                0.000000\n",
       "No_of_Ratings                                 0.000000\n",
       "dtype: float64"
      ]
     },
     "execution_count": 959,
     "metadata": {},
     "output_type": "execute_result"
    }
   ],
   "source": [
    "train_riders.isnull().sum() / train_riders.shape[0] * 100.00\n"
   ]
  },
  {
   "cell_type": "code",
   "execution_count": 960,
   "metadata": {},
   "outputs": [],
   "source": [
    "mean_temp = train_riders.Temperature.mean()\n",
    "train_riders.Temperature.fillna(value=mean_temp,inplace=True)\n",
    "test_riders.Temperature.fillna(value=mean_temp,inplace=True)\n",
    "\n",
    "train_riders.drop(columns=[\"Precipitation in millimeters\"],inplace=True)\n",
    "test_riders.drop(columns=[\"Precipitation in millimeters\"],inplace=True)"
   ]
  },
  {
   "cell_type": "code",
   "execution_count": 961,
   "metadata": {},
   "outputs": [
    {
     "data": {
      "text/plain": [
       "Order No                                      object\n",
       "User Id                                       object\n",
       "Vehicle Type                                  object\n",
       "Platform Type                                  int64\n",
       "Personal or Business                          object\n",
       "Placement - Day of Month                       int64\n",
       "Placement - Weekday (Mo = 1)                   int64\n",
       "Placement - Time                              object\n",
       "Confirmation - Day of Month                    int64\n",
       "Confirmation - Weekday (Mo = 1)                int64\n",
       "Confirmation - Time                           object\n",
       "Arrival at Pickup - Day of Month               int64\n",
       "Arrival at Pickup - Weekday (Mo = 1)           int64\n",
       "Arrival at Pickup - Time                      object\n",
       "Pickup - Day of Month                          int64\n",
       "Pickup - Weekday (Mo = 1)                      int64\n",
       "Pickup - Time                                 object\n",
       "Arrival at Destination - Day of Month          int64\n",
       "Arrival at Destination - Weekday (Mo = 1)      int64\n",
       "Arrival at Destination - Time                 object\n",
       "Distance (KM)                                  int64\n",
       "Temperature                                  float64\n",
       "Pickup Lat                                   float64\n",
       "Pickup Long                                  float64\n",
       "Destination Lat                              float64\n",
       "Destination Long                             float64\n",
       "Rider Id                                      object\n",
       "Time from Pickup to Arrival                    int64\n",
       "No_Of_Orders                                   int64\n",
       "Age                                            int64\n",
       "Average_Rating                               float64\n",
       "No_of_Ratings                                  int64\n",
       "dtype: object"
      ]
     },
     "execution_count": 961,
     "metadata": {},
     "output_type": "execute_result"
    }
   ],
   "source": [
    "train_riders.dtypes"
   ]
  },
  {
   "cell_type": "markdown",
   "metadata": {},
   "source": [
    "#change  data Types "
   ]
  },
  {
   "cell_type": "code",
   "execution_count": 962,
   "metadata": {},
   "outputs": [],
   "source": [
    "from pandas.api.types import is_numeric_dtype\n",
    "def change_types(df):\n",
    "    int_to_float_columns = [\"Time from Pickup to Arrival\",\"Distance (KM)\"]\n",
    "    for column in df.columns:\n",
    "        if(not is_numeric_dtype(df[column])):\n",
    "            df[column] = df[column].astype(\"category\")\n",
    "        elif(np.issubdtype(df[column], np.int64) and column not in int_to_float_columns):\n",
    "            df[column] = df[column].astype(\"category\")\n",
    "        elif(column in int_to_float_columns):\n",
    "            df[column] = df[column].astype(\"float\")"
   ]
  },
  {
   "cell_type": "code",
   "execution_count": 963,
   "metadata": {},
   "outputs": [],
   "source": [
    "change_types(train_riders)\n",
    "change_types(test_riders)"
   ]
  },
  {
   "cell_type": "code",
   "execution_count": 964,
   "metadata": {},
   "outputs": [],
   "source": [
    "train_riders['Pickup - Time'] = pd.to_datetime(train_riders['Pickup - Time'])\n",
    "train_riders['Arrival at Destination - Time'] = pd.to_datetime(train_riders['Arrival at Destination - Time'])\n",
    "train_riders['Arrival at Pickup - Time'] = pd.to_datetime(train_riders['Arrival at Pickup - Time'])\n",
    "train_riders['Placement - Time'] = pd.to_datetime(train_riders['Placement - Time'])\n",
    "\n",
    "\n",
    "\n",
    "\n"
   ]
  },
  {
   "cell_type": "code",
   "execution_count": 965,
   "metadata": {},
   "outputs": [
    {
     "data": {
      "text/plain": [
       "Order No                                           category\n",
       "User Id                                            category\n",
       "Vehicle Type                                       category\n",
       "Platform Type                                      category\n",
       "Personal or Business                               category\n",
       "Placement - Day of Month                           category\n",
       "Placement - Weekday (Mo = 1)                       category\n",
       "Placement - Time                             datetime64[ns]\n",
       "Confirmation - Day of Month                        category\n",
       "Confirmation - Weekday (Mo = 1)                    category\n",
       "Confirmation - Time                                category\n",
       "Arrival at Pickup - Day of Month                   category\n",
       "Arrival at Pickup - Weekday (Mo = 1)               category\n",
       "Arrival at Pickup - Time                     datetime64[ns]\n",
       "Pickup - Day of Month                              category\n",
       "Pickup - Weekday (Mo = 1)                          category\n",
       "Pickup - Time                                datetime64[ns]\n",
       "Arrival at Destination - Day of Month              category\n",
       "Arrival at Destination - Weekday (Mo = 1)          category\n",
       "Arrival at Destination - Time                datetime64[ns]\n",
       "Distance (KM)                                       float64\n",
       "Temperature                                         float64\n",
       "Pickup Lat                                          float64\n",
       "Pickup Long                                         float64\n",
       "Destination Lat                                     float64\n",
       "Destination Long                                    float64\n",
       "Rider Id                                           category\n",
       "Time from Pickup to Arrival                         float64\n",
       "No_Of_Orders                                       category\n",
       "Age                                                category\n",
       "Average_Rating                                      float64\n",
       "No_of_Ratings                                      category\n",
       "dtype: object"
      ]
     },
     "execution_count": 965,
     "metadata": {},
     "output_type": "execute_result"
    }
   ],
   "source": [
    "train_riders.dtypes"
   ]
  },
  {
   "cell_type": "code",
   "execution_count": null,
   "metadata": {},
   "outputs": [],
   "source": []
  },
  {
   "cell_type": "code",
   "execution_count": null,
   "metadata": {},
   "outputs": [],
   "source": []
  },
  {
   "cell_type": "code",
   "execution_count": null,
   "metadata": {},
   "outputs": [],
   "source": []
  },
  {
   "cell_type": "code",
   "execution_count": null,
   "metadata": {},
   "outputs": [],
   "source": []
  },
  {
   "cell_type": "markdown",
   "metadata": {},
   "source": [
    "##EDA"
   ]
  },
  {
   "cell_type": "code",
   "execution_count": 966,
   "metadata": {},
   "outputs": [
    {
     "data": {
      "text/plain": [
       "Text(0.5, 1.0, 'The distribution of the trip Duration distribution')"
      ]
     },
     "execution_count": 966,
     "metadata": {},
     "output_type": "execute_result"
    },
    {
     "data": {
      "image/png": "[encoded data removed]",
      "text/plain": [
       "<Figure size 432x288 with 1 Axes>"
      ]
     },
     "metadata": {
      "needs_background": "light"
     },
     "output_type": "display_data"
    }
   ],
   "source": [
    "sns.distplot(train_riders['Time from Pickup to Arrival'],kde=False)\n",
    "plt.title('The distribution of the trip Duration distribution')"
   ]
  },
  {
   "cell_type": "code",
   "execution_count": 967,
   "metadata": {},
   "outputs": [
    {
     "data": {
      "text/plain": [
       "count    21201.000000\n",
       "mean      1556.920947\n",
       "std        987.270788\n",
       "min          1.000000\n",
       "25%        882.000000\n",
       "50%       1369.000000\n",
       "75%       2040.000000\n",
       "max       7883.000000\n",
       "Name: Time from Pickup to Arrival, dtype: float64"
      ]
     },
     "execution_count": 967,
     "metadata": {},
     "output_type": "execute_result"
    }
   ],
   "source": [
    "train_riders[\"Time from Pickup to Arrival\"].describe()"
   ]
  },
  {
   "cell_type": "code",
   "execution_count": 968,
   "metadata": {},
   "outputs": [
    {
     "data": {
      "text/plain": [
       "count                     21201\n",
       "mean     0 days 00:25:56.920947\n",
       "std      0 days 00:16:27.270787\n",
       "min             0 days 00:00:01\n",
       "25%             0 days 00:14:42\n",
       "50%             0 days 00:22:49\n",
       "75%             0 days 00:34:00\n",
       "max             0 days 02:11:23\n",
       "dtype: object"
      ]
     },
     "execution_count": 968,
     "metadata": {},
     "output_type": "execute_result"
    }
   ],
   "source": [
    "(train_riders[\"Arrival at Destination - Time\"] - train_riders[\"Pickup - Time\"]).describe()"
   ]
  },
  {
   "cell_type": "markdown",
   "metadata": {},
   "source": [
    "##Most of our trips take between  22 minutes and 2 hours .\n",
    "##There are several suspiciously short rides with less than 10 seconds duration.\n",
    "##"
   ]
  },
  {
   "cell_type": "markdown",
   "metadata": {},
   "source": [
    "##extraction the hour, minute and second features "
   ]
  },
  {
   "cell_type": "code",
   "execution_count": 969,
   "metadata": {},
   "outputs": [
    {
     "name": "stdout",
     "output_type": "stream",
     "text": [
      "Arrival at Pickup - Time\n",
      "Pickup - Time\n"
     ]
    }
   ],
   "source": [
    "time = ['Arrival at Pickup - Time', 'Pickup - Time']\n",
    "\n",
    "for c in time:\n",
    "    print(c)\n",
    "     #extracting the hour\n",
    "    train_riders[c+'Hour'] = pd.to_datetime(training[c]).dt.hour\n",
    "    test_riders[c+'Hour'] = pd.to_datetime(testing[c]).dt.hour\n",
    "     #extracting the minutes\n",
    "    train_riders[c+'minutes'] = pd.to_datetime(training[c]).dt.minute\n",
    "    test_riders[c+'minutes'] = pd.to_datetime(testing[c]).dt.minute\n",
    "     #extracting the seconds\n",
    "    train_riders[c+'seconds'] = pd.to_datetime(training[c]).dt.second\n",
    "    test_riders[c+'seconds'] = pd.to_datetime(testing[c]).dt.second"
   ]
  },
  {
   "cell_type": "code",
   "execution_count": null,
   "metadata": {},
   "outputs": [],
   "source": []
  },
  {
   "cell_type": "code",
   "execution_count": 970,
   "metadata": {},
   "outputs": [
    {
     "data": {
      "image/png": "[encoded data removed]",
      "text/plain": [
       "<Figure size 864x576 with 1 Axes>"
      ]
     },
     "metadata": {
      "needs_background": "light"
     },
     "output_type": "display_data"
    }
   ],
   "source": [
    "plt.figure(figsize=(12,8))\n",
    "sns.countplot(x=\"Arrival at Pickup - Weekday (Mo = 1)\", data=train_riders)\n",
    "plt.show()"
   ]
  },
  {
   "cell_type": "code",
   "execution_count": 971,
   "metadata": {},
   "outputs": [
    {
     "data": {
      "image/png": "[encoded data removed]",
      "text/plain": [
       "<Figure size 864x576 with 1 Axes>"
      ]
     },
     "metadata": {
      "needs_background": "light"
     },
     "output_type": "display_data"
    }
   ],
   "source": [
    "plt.figure(figsize=(12,8))\n",
    "sns.countplot(x=\"Arrival at Pickup - Day of Month\", data=train_riders)\n",
    "plt.show()"
   ]
  },
  {
   "cell_type": "code",
   "execution_count": 972,
   "metadata": {},
   "outputs": [
    {
     "data": {
      "image/png": "[encoded data removed]",
      "text/plain": [
       "<Figure size 864x576 with 1 Axes>"
      ]
     },
     "metadata": {
      "needs_background": "light"
     },
     "output_type": "display_data"
    }
   ],
   "source": [
    "plt.figure(figsize=(12,8))\n",
    "sns.countplot(x=\"Arrival at Pickup - TimeHour\", data=train_riders)\n",
    "plt.show()"
   ]
  },
  {
   "cell_type": "markdown",
   "metadata": {},
   "source": [
    "#relationship between each of the variables with the target variable trip_duration."
   ]
  },
  {
   "cell_type": "code",
   "execution_count": 973,
   "metadata": {},
   "outputs": [
    {
     "name": "stderr",
     "output_type": "stream",
     "text": [
      "C:\\Users\\Azukile\\anaconda3\\lib\\site-packages\\seaborn\\categorical.py:3720: UserWarning: catplot is a figure-level function and does not accept target axes. You may wish to try barplot\n",
      "  warnings.warn(msg, UserWarning)\n"
     ]
    },
    {
     "data": {
      "image/png": "[encoded data removed]",
      "text/plain": [
       "<Figure size 1440x360 with 1 Axes>"
      ]
     },
     "metadata": {
      "needs_background": "light"
     },
     "output_type": "display_data"
    },
    {
     "data": {
      "image/png": "[encoded data removed]",
      "text/plain": [
       "<Figure size 360x360 with 1 Axes>"
      ]
     },
     "metadata": {
      "needs_background": "light"
     },
     "output_type": "display_data"
    }
   ],
   "source": [
    "figure,(ax1)=plt.subplots(ncols=1,figsize=(20,5))\n",
    "ax1.set_title('Distribution of pickup hours')\n",
    "ax=sns.catplot(x=\"Pickup - TimeHour\", y=\"Time from Pickup to Arrival\",kind=\"bar\",data=train_riders,ax=ax1)\n"
   ]
  },
  {
   "cell_type": "markdown",
   "metadata": {},
   "source": [
    "##The highest average time taken to complete a trip are for trips started in the morning  and the least are the ones taken in the aftetrnoon"
   ]
  },
  {
   "cell_type": "markdown",
   "metadata": {},
   "source": [
    "#The relationship between Distance  and trip duration "
   ]
  },
  {
   "cell_type": "code",
   "execution_count": 974,
   "metadata": {},
   "outputs": [
    {
     "data": {
      "text/plain": [
       "<seaborn.axisgrid.FacetGrid at 0x1a03282e508>"
      ]
     },
     "execution_count": 974,
     "metadata": {},
     "output_type": "execute_result"
    },
    {
     "data": {
      "image/png": "[encoded data removed]",
      "text/plain": [
       "<Figure size 360x360 with 1 Axes>"
      ]
     },
     "metadata": {
      "needs_background": "light"
     },
     "output_type": "display_data"
    }
   ],
   "source": [
    "sns.relplot(x=\"Distance (KM)\", y=\"Time from Pickup to Arrival\", data=train_riders, kind=\"scatter\")"
   ]
  },
  {
   "cell_type": "code",
   "execution_count": 975,
   "metadata": {},
   "outputs": [],
   "source": [
    "#we have trips wich are in less than 20 Km distance but have take more than 5000 seconds to  this may be the indication some outliers \n"
   ]
  },
  {
   "cell_type": "markdown",
   "metadata": {},
   "source": []
  },
  {
   "cell_type": "code",
   "execution_count": null,
   "metadata": {},
   "outputs": [],
   "source": []
  },
  {
   "cell_type": "markdown",
   "metadata": {},
   "source": [
    "###Converting Datatypes "
   ]
  },
  {
   "cell_type": "code",
   "execution_count": 976,
   "metadata": {},
   "outputs": [],
   "source": [
    "train_riders = train_riders.astype({\"Rider Id\":\"category\",\"Age\":\"float\",\"No_Of_Orders\":\"float\",\"No_of_Ratings\":\"float\",\"Average_Rating\":\"float\"},copy=False)\n",
    "test_riders = test_riders.astype({\"Rider Id\":\"category\",\"Age\":\"float\",\"No_Of_Orders\":\"float\",\"No_of_Ratings\":\"float\",\"Average_Rating\":\"float\"},copy=False)"
   ]
  },
  {
   "cell_type": "code",
   "execution_count": 977,
   "metadata": {},
   "outputs": [],
   "source": [
    "#Let us change convert age from days to years and Months \n",
    "train_riders['Age_Year'] = train_riders['Age']/365\n",
    "train_riders['Age_Month'] = train_riders['Age']/30\n",
    "train_riders['Age_Year']=round(train_riders['Age_Year'])\n",
    "train_riders['Age_Month'] = round(train_riders['Age_Month'])\n",
    "test_riders['Age_Year'] = test_riders['Age']/365\n",
    "test_riders['Age_Month'] = test_riders['Age']/30\n",
    "test_riders['Age_Year']=round(test_riders['Age_Year'])\n",
    "test_riders['Age_Month'] = round(test_riders['Age_Month'])"
   ]
  },
  {
   "cell_type": "code",
   "execution_count": 978,
   "metadata": {},
   "outputs": [
    {
     "data": {
      "text/plain": [
       "<seaborn.axisgrid.FacetGrid at 0x1a035ed7cc8>"
      ]
     },
     "execution_count": 978,
     "metadata": {},
     "output_type": "execute_result"
    },
    {
     "data": {
      "image/png": "[encoded data removed]",
      "text/plain": [
       "<Figure size 360x360 with 1 Axes>"
      ]
     },
     "metadata": {
      "needs_background": "light"
     },
     "output_type": "display_data"
    }
   ],
   "source": [
    "sns.relplot(x=\"Age_Year\", y=\"Time from Pickup to Arrival\", data=train_riders, kind=\"scatter\")"
   ]
  },
  {
   "cell_type": "markdown",
   "metadata": {},
   "source": [
    "#More exprienced drivers tend to Take reach the destination in less time than those who are less exprienced"
   ]
  },
  {
   "cell_type": "markdown",
   "metadata": {},
   "source": [
    "#lets create "
   ]
  },
  {
   "cell_type": "code",
   "execution_count": 979,
   "metadata": {},
   "outputs": [
    {
     "data": {
      "text/plain": [
       "Index(['Order No', 'User Id', 'Vehicle Type', 'Platform Type',\n",
       "       'Personal or Business', 'Placement - Day of Month',\n",
       "       'Placement - Weekday (Mo = 1)', 'Placement - Time',\n",
       "       'Confirmation - Day of Month', 'Confirmation - Weekday (Mo = 1)',\n",
       "       'Confirmation - Time', 'Arrival at Pickup - Day of Month',\n",
       "       'Arrival at Pickup - Weekday (Mo = 1)', 'Arrival at Pickup - Time',\n",
       "       'Pickup - Day of Month', 'Pickup - Weekday (Mo = 1)', 'Pickup - Time',\n",
       "       'Arrival at Destination - Day of Month',\n",
       "       'Arrival at Destination - Weekday (Mo = 1)',\n",
       "       'Arrival at Destination - Time', 'Distance (KM)', 'Temperature',\n",
       "       'Pickup Lat', 'Pickup Long', 'Destination Lat', 'Destination Long',\n",
       "       'Rider Id', 'Time from Pickup to Arrival', 'No_Of_Orders', 'Age',\n",
       "       'Average_Rating', 'No_of_Ratings', 'Arrival at Pickup - TimeHour',\n",
       "       'Arrival at Pickup - Timeminutes', 'Arrival at Pickup - Timeseconds',\n",
       "       'Pickup - TimeHour', 'Pickup - Timeminutes', 'Pickup - Timeseconds',\n",
       "       'Age_Year', 'Age_Month'],\n",
       "      dtype='object')"
      ]
     },
     "execution_count": 979,
     "metadata": {},
     "output_type": "execute_result"
    }
   ],
   "source": [
    "train_riders.columns"
   ]
  },
  {
   "cell_type": "markdown",
   "metadata": {},
   "source": [
    "##Dropping not so usefull columns "
   ]
  },
  {
   "cell_type": "code",
   "execution_count": 980,
   "metadata": {},
   "outputs": [],
   "source": [
    "columns_to_drop = [\n",
    "       'Placement - Day of Month',\n",
    "       'Placement - Weekday (Mo = 1)',\n",
    "       'Placement - Time', 'Confirmation - Day of Month',\n",
    "       'Confirmation - Weekday (Mo = 1)',\n",
    "       'Confirmation - Time',\n",
    "       'Arrival at Pickup - Day of Month',\n",
    "       'Arrival at Pickup - Weekday (Mo = 1)',\n",
    "       'Arrival at Pickup - Time','Vehicle Type',\n",
    "        ]                                                     \n",
    "\n",
    "train_riders.drop(columns=columns_to_drop, inplace=True)\n",
    "test_riders.drop(columns=columns_to_drop, inplace=True)"
   ]
  },
  {
   "cell_type": "code",
   "execution_count": 981,
   "metadata": {},
   "outputs": [],
   "source": [
    "train_riders['Time_from_Pickup_to_Arrival_Minutes'] = train_riders['Time from Pickup to Arrival']/60\n",
    "test_riders['Time_from_Pickup_to_Arrival_Minutes'] = train_riders['Time from Pickup to Arrival']/60"
   ]
  },
  {
   "cell_type": "code",
   "execution_count": null,
   "metadata": {},
   "outputs": [],
   "source": []
  },
  {
   "cell_type": "code",
   "execution_count": 982,
   "metadata": {},
   "outputs": [],
   "source": [
    "train_riders['speed']=train_riders['Distance (KM)']/train_riders['Time_from_Pickup_to_Arrival_Minutes']\n",
    "test_riders['speed']=test_riders['Distance (KM)']/train_riders['Time_from_Pickup_to_Arrival_Minutes']\n"
   ]
  },
  {
   "cell_type": "code",
   "execution_count": 983,
   "metadata": {},
   "outputs": [],
   "source": [
    "def compute_distance(row):\n",
    "    src = (row[\"Pickup Lat\"],row[\"Pickup Long\"])\n",
    "    dest= (row[\"Destination Lat\"],row[\"Destination Long\"])\n",
    "    return distance.distance(src,dest).km"
   ]
  },
  {
   "cell_type": "code",
   "execution_count": 984,
   "metadata": {},
   "outputs": [],
   "source": [
    "train_riders[\"geopy_distance\"] = train_riders.apply(compute_distance,axis=1)\n",
    "test_riders[\"geopy_distance\"] = test_riders.apply(compute_distance,axis=1)"
   ]
  },
  {
   "cell_type": "code",
   "execution_count": 985,
   "metadata": {},
   "outputs": [],
   "source": [
    "train_riders[\"Distance mean\"] = (train_riders[\"Distance (KM)\"] + train_riders[\"geopy_distance\"])/2\n",
    "test_riders[\"Distance mean\"] = (test_riders[\"Distance (KM)\"] + test_riders[\"geopy_distance\"])/2"
   ]
  },
  {
   "cell_type": "code",
   "execution_count": 986,
   "metadata": {},
   "outputs": [
    {
     "name": "stdout",
     "output_type": "stream",
     "text": [
      "<class 'pandas.core.frame.DataFrame'>\n",
      "Int64Index: 21201 entries, 0 to 21200\n",
      "Data columns (total 34 columns):\n",
      " #   Column                                     Non-Null Count  Dtype         \n",
      "---  ------                                     --------------  -----         \n",
      " 0   Order No                                   21201 non-null  category      \n",
      " 1   User Id                                    21201 non-null  category      \n",
      " 2   Platform Type                              21201 non-null  category      \n",
      " 3   Personal or Business                       21201 non-null  category      \n",
      " 4   Pickup - Day of Month                      21201 non-null  category      \n",
      " 5   Pickup - Weekday (Mo = 1)                  21201 non-null  category      \n",
      " 6   Pickup - Time                              21201 non-null  datetime64[ns]\n",
      " 7   Arrival at Destination - Day of Month      21201 non-null  category      \n",
      " 8   Arrival at Destination - Weekday (Mo = 1)  21201 non-null  category      \n",
      " 9   Arrival at Destination - Time              21201 non-null  datetime64[ns]\n",
      " 10  Distance (KM)                              21201 non-null  float64       \n",
      " 11  Temperature                                21201 non-null  float64       \n",
      " 12  Pickup Lat                                 21201 non-null  float64       \n",
      " 13  Pickup Long                                21201 non-null  float64       \n",
      " 14  Destination Lat                            21201 non-null  float64       \n",
      " 15  Destination Long                           21201 non-null  float64       \n",
      " 16  Rider Id                                   21201 non-null  category      \n",
      " 17  Time from Pickup to Arrival                21201 non-null  float64       \n",
      " 18  No_Of_Orders                               21201 non-null  float64       \n",
      " 19  Age                                        21201 non-null  float64       \n",
      " 20  Average_Rating                             21201 non-null  float64       \n",
      " 21  No_of_Ratings                              21201 non-null  float64       \n",
      " 22  Arrival at Pickup - TimeHour               21201 non-null  int64         \n",
      " 23  Arrival at Pickup - Timeminutes            21201 non-null  int64         \n",
      " 24  Arrival at Pickup - Timeseconds            21201 non-null  int64         \n",
      " 25  Pickup - TimeHour                          21201 non-null  int64         \n",
      " 26  Pickup - Timeminutes                       21201 non-null  int64         \n",
      " 27  Pickup - Timeseconds                       21201 non-null  int64         \n",
      " 28  Age_Year                                   21201 non-null  float64       \n",
      " 29  Age_Month                                  21201 non-null  float64       \n",
      " 30  Time_from_Pickup_to_Arrival_Minutes        21201 non-null  float64       \n",
      " 31  speed                                      21201 non-null  float64       \n",
      " 32  geopy_distance                             21201 non-null  float64       \n",
      " 33  Distance mean                              21201 non-null  float64       \n",
      "dtypes: category(9), datetime64[ns](2), float64(17), int64(6)\n",
      "memory usage: 6.1 MB\n"
     ]
    }
   ],
   "source": [
    "train_riders.info()"
   ]
  },
  {
   "cell_type": "code",
   "execution_count": 987,
   "metadata": {},
   "outputs": [
    {
     "data": {
      "text/plain": [
       "[(0, 'Order No'),\n",
       " (1, 'User Id'),\n",
       " (2, 'Platform Type'),\n",
       " (3, 'Personal or Business'),\n",
       " (4, 'Pickup - Day of Month'),\n",
       " (5, 'Pickup - Weekday (Mo = 1)'),\n",
       " (6, 'Pickup - Time'),\n",
       " (7, 'Arrival at Destination - Day of Month'),\n",
       " (8, 'Arrival at Destination - Weekday (Mo = 1)'),\n",
       " (9, 'Arrival at Destination - Time'),\n",
       " (10, 'Distance (KM)'),\n",
       " (11, 'Temperature'),\n",
       " (12, 'Pickup Lat'),\n",
       " (13, 'Pickup Long'),\n",
       " (14, 'Destination Lat'),\n",
       " (15, 'Destination Long'),\n",
       " (16, 'Rider Id'),\n",
       " (17, 'Time from Pickup to Arrival'),\n",
       " (18, 'No_Of_Orders'),\n",
       " (19, 'Age'),\n",
       " (20, 'Average_Rating'),\n",
       " (21, 'No_of_Ratings'),\n",
       " (22, 'Arrival at Pickup - TimeHour'),\n",
       " (23, 'Arrival at Pickup - Timeminutes'),\n",
       " (24, 'Arrival at Pickup - Timeseconds'),\n",
       " (25, 'Pickup - TimeHour'),\n",
       " (26, 'Pickup - Timeminutes'),\n",
       " (27, 'Pickup - Timeseconds'),\n",
       " (28, 'Age_Year'),\n",
       " (29, 'Age_Month'),\n",
       " (30, 'Time_from_Pickup_to_Arrival_Minutes'),\n",
       " (31, 'speed'),\n",
       " (32, 'geopy_distance'),\n",
       " (33, 'Distance mean')]"
      ]
     },
     "execution_count": 987,
     "metadata": {},
     "output_type": "execute_result"
    }
   ],
   "source": [
    "list(zip( range(0,len(train_riders.columns)),train_riders.columns))"
   ]
  },
  {
   "cell_type": "code",
   "execution_count": 988,
   "metadata": {},
   "outputs": [
    {
     "name": "stdout",
     "output_type": "stream",
     "text": [
      "speed                             -0.188162\n",
      "Destination Lat                   -0.061872\n",
      "Pickup Lat                        -0.053823\n",
      "Average_Rating                    -0.042559\n",
      "No_Of_Orders                      -0.041608\n",
      "Age_Year                          -0.009171\n",
      "Age                               -0.007969\n",
      "Age_Month                         -0.007843\n",
      "Arrival at Pickup - Timeseconds   -0.002916\n",
      "Pickup - Timeseconds              -0.000473\n",
      "No_of_Ratings                      0.005609\n",
      "Temperature                        0.005772\n",
      "Arrival at Pickup - Timeminutes    0.010009\n",
      "Pickup - TimeHour                  0.010314\n",
      "Pickup - Timeminutes               0.012259\n",
      "Name: Time from Pickup to Arrival, dtype: float64 \n",
      "\n",
      "Average_Rating                        -0.042559\n",
      "No_Of_Orders                          -0.041608\n",
      "Age_Year                              -0.009171\n",
      "Age                                   -0.007969\n",
      "Age_Month                             -0.007843\n",
      "Arrival at Pickup - Timeseconds       -0.002916\n",
      "Pickup - Timeseconds                  -0.000473\n",
      "No_of_Ratings                          0.005609\n",
      "Temperature                            0.005772\n",
      "Arrival at Pickup - Timeminutes        0.010009\n",
      "Pickup - TimeHour                      0.010314\n",
      "Pickup - Timeminutes                   0.012259\n",
      "Arrival at Pickup - TimeHour           0.017129\n",
      "Pickup Long                            0.060285\n",
      "Destination Long                       0.070425\n",
      "geopy_distance                         0.565436\n",
      "Distance (KM)                          0.580608\n",
      "Distance mean                          0.580824\n",
      "Time from Pickup to Arrival            1.000000\n",
      "Time_from_Pickup_to_Arrival_Minutes    1.000000\n",
      "Name: Time from Pickup to Arrival, dtype: float64\n"
     ]
    }
   ],
   "source": [
    "# Find all correlations and sort \n",
    "correlations_data = train_riders.corr()['Time from Pickup to Arrival'].sort_values()\n",
    "\n",
    "# Print the most negative correlations\n",
    "print(correlations_data.head(15), '\\n')\n",
    "\n",
    "# Print the most positive correlations\n",
    "print(correlations_data.tail(20))"
   ]
  },
  {
   "cell_type": "code",
   "execution_count": 989,
   "metadata": {},
   "outputs": [],
   "source": [
    "numeric_subset = train_riders.select_dtypes('number')\n",
    "categorical_subset = train_riders[['Personal or Business', 'Platform Type']]\n",
    "\n",
    "\n",
    "categorical_subset = pd.get_dummies(categorical_subset)\n",
    "features = pd.concat([numeric_subset, categorical_subset], axis = 1)\n",
    "features = features.dropna(subset = ['Time from Pickup to Arrival'])\n",
    "correlations = features.corr()['Time from Pickup to Arrival'].dropna().sort_values()\n"
   ]
  },
  {
   "cell_type": "code",
   "execution_count": null,
   "metadata": {},
   "outputs": [],
   "source": []
  },
  {
   "cell_type": "code",
   "execution_count": 990,
   "metadata": {},
   "outputs": [
    {
     "name": "stdout",
     "output_type": "stream",
     "text": [
      "<class 'pandas.core.frame.DataFrame'>\n",
      "Int64Index: 21201 entries, 0 to 21200\n",
      "Data columns (total 34 columns):\n",
      " #   Column                                     Non-Null Count  Dtype         \n",
      "---  ------                                     --------------  -----         \n",
      " 0   Order No                                   21201 non-null  category      \n",
      " 1   User Id                                    21201 non-null  category      \n",
      " 2   Platform Type                              21201 non-null  category      \n",
      " 3   Personal or Business                       21201 non-null  category      \n",
      " 4   Pickup - Day of Month                      21201 non-null  category      \n",
      " 5   Pickup - Weekday (Mo = 1)                  21201 non-null  category      \n",
      " 6   Pickup - Time                              21201 non-null  datetime64[ns]\n",
      " 7   Arrival at Destination - Day of Month      21201 non-null  category      \n",
      " 8   Arrival at Destination - Weekday (Mo = 1)  21201 non-null  category      \n",
      " 9   Arrival at Destination - Time              21201 non-null  datetime64[ns]\n",
      " 10  Distance (KM)                              21201 non-null  float64       \n",
      " 11  Temperature                                21201 non-null  float64       \n",
      " 12  Pickup Lat                                 21201 non-null  float64       \n",
      " 13  Pickup Long                                21201 non-null  float64       \n",
      " 14  Destination Lat                            21201 non-null  float64       \n",
      " 15  Destination Long                           21201 non-null  float64       \n",
      " 16  Rider Id                                   21201 non-null  category      \n",
      " 17  Time from Pickup to Arrival                21201 non-null  float64       \n",
      " 18  No_Of_Orders                               21201 non-null  float64       \n",
      " 19  Age                                        21201 non-null  float64       \n",
      " 20  Average_Rating                             21201 non-null  float64       \n",
      " 21  No_of_Ratings                              21201 non-null  float64       \n",
      " 22  Arrival at Pickup - TimeHour               21201 non-null  int64         \n",
      " 23  Arrival at Pickup - Timeminutes            21201 non-null  int64         \n",
      " 24  Arrival at Pickup - Timeseconds            21201 non-null  int64         \n",
      " 25  Pickup - TimeHour                          21201 non-null  int64         \n",
      " 26  Pickup - Timeminutes                       21201 non-null  int64         \n",
      " 27  Pickup - Timeseconds                       21201 non-null  int64         \n",
      " 28  Age_Year                                   21201 non-null  float64       \n",
      " 29  Age_Month                                  21201 non-null  float64       \n",
      " 30  Time_from_Pickup_to_Arrival_Minutes        21201 non-null  float64       \n",
      " 31  speed                                      21201 non-null  float64       \n",
      " 32  geopy_distance                             21201 non-null  float64       \n",
      " 33  Distance mean                              21201 non-null  float64       \n",
      "dtypes: category(9), datetime64[ns](2), float64(17), int64(6)\n",
      "memory usage: 6.1 MB\n"
     ]
    }
   ],
   "source": [
    "train_riders.info()"
   ]
  },
  {
   "cell_type": "code",
   "execution_count": 991,
   "metadata": {},
   "outputs": [],
   "source": [
    "def write_submission_file(prediction, filename,\n",
    "                          path_to_sample=os.path.join('SampleSubmission.csv')):\n",
    "    submission = pd.read_csv(path_to_sample, index_col='Order_No')\n",
    "    \n",
    "    submission['Time from Pickup to Arrival'] = prediction\n",
    "    submission.to_csv(filename)"
   ]
  },
  {
   "cell_type": "code",
   "execution_count": 992,
   "metadata": {},
   "outputs": [],
   "source": [
    "feature_selection = [\"Destination Long\", \"Pickup Long\",\"Arrival at Pickup - TimeHour\",\"No_of_Ratings\",\n",
    "                     \"No_of_Ratings\",\"speed\",\"Age_Year\",\"geopy_distance\",\"Pickup - TimeHour\",\"Distance mean\"]"
   ]
  },
  {
   "cell_type": "code",
   "execution_count": 993,
   "metadata": {},
   "outputs": [],
   "source": [
    "y = train_riders[\"Time from Pickup to Arrival\"]\n",
    "X = train_riders[feature_selection]"
   ]
  },
  {
   "cell_type": "code",
   "execution_count": 994,
   "metadata": {},
   "outputs": [],
   "source": [
    "from sklearn.model_selection import train_test_split\n",
    "from sklearn.metrics import mean_squared_error\n",
    "\n",
    "X__train, X__test, y__train, y__test = train_test_split(X, y, random_state=50, test_size=0.2)"
   ]
  },
  {
   "cell_type": "code",
   "execution_count": 995,
   "metadata": {},
   "outputs": [
    {
     "data": {
      "text/plain": [
       "573124.0184263167"
      ]
     },
     "execution_count": 995,
     "metadata": {},
     "output_type": "execute_result"
    }
   ],
   "source": [
    "from sklearn.linear_model import LinearRegression\n",
    "\n",
    "lr = LinearRegression()\n",
    "lr.fit(X__train, y__train)\n",
    "y_pred = lr.predict(X__test)\n",
    "\n",
    "mean_squared_error(y__test, y_pred)"
   ]
  },
  {
   "cell_type": "code",
   "execution_count": 996,
   "metadata": {},
   "outputs": [
    {
     "data": {
      "text/plain": [
       "0.39695418204209454"
      ]
     },
     "execution_count": 996,
     "metadata": {},
     "output_type": "execute_result"
    }
   ],
   "source": [
    "from sklearn.metrics import r2_score\n",
    "r2_score(y__test,y_pred)"
   ]
  },
  {
   "cell_type": "code",
   "execution_count": 997,
   "metadata": {},
   "outputs": [
    {
     "name": "stdout",
     "output_type": "stream",
     "text": [
      "757.0495481976835\n"
     ]
    }
   ],
   "source": [
    "print(np.sqrt(mean_squared_error(y__test,y_pred)))"
   ]
  },
  {
   "cell_type": "code",
   "execution_count": 998,
   "metadata": {},
   "outputs": [
    {
     "name": "stdout",
     "output_type": "stream",
     "text": [
      "[2134.43237371 1025.61722388 1642.01708891 ... 1487.45135254 1540.22238954\n",
      " 1530.47199601]\n"
     ]
    }
   ],
   "source": [
    "print(y_pred)"
   ]
  },
  {
   "cell_type": "code",
   "execution_count": null,
   "metadata": {},
   "outputs": [],
   "source": []
  },
  {
   "cell_type": "code",
   "execution_count": null,
   "metadata": {},
   "outputs": [],
   "source": []
  },
  {
   "cell_type": "code",
   "execution_count": null,
   "metadata": {},
   "outputs": [],
   "source": []
  },
  {
   "cell_type": "code",
   "execution_count": null,
   "metadata": {},
   "outputs": [],
   "source": []
  },
  {
   "cell_type": "code",
   "execution_count": null,
   "metadata": {},
   "outputs": [],
   "source": [
    "\n"
   ]
  },
  {
   "cell_type": "code",
   "execution_count": null,
   "metadata": {},
   "outputs": [],
   "source": []
  },
  {
   "cell_type": "code",
   "execution_count": 539,
   "metadata": {},
   "outputs": [],
   "source": []
  },
  {
   "cell_type": "code",
   "execution_count": 540,
   "metadata": {},
   "outputs": [],
   "source": []
  },
  {
   "cell_type": "code",
   "execution_count": null,
   "metadata": {},
   "outputs": [],
   "source": []
  },
  {
   "cell_type": "code",
   "execution_count": null,
   "metadata": {},
   "outputs": [],
   "source": []
  },
  {
   "cell_type": "code",
   "execution_count": 543,
   "metadata": {},
   "outputs": [],
   "source": []
  },
  {
   "cell_type": "code",
   "execution_count": null,
   "metadata": {},
   "outputs": [],
   "source": []
  },
  {
   "cell_type": "code",
   "execution_count": null,
   "metadata": {},
   "outputs": [],
   "source": []
  },
  {
   "cell_type": "code",
   "execution_count": null,
   "metadata": {},
   "outputs": [],
   "source": []
  },
  {
   "cell_type": "code",
   "execution_count": null,
   "metadata": {},
   "outputs": [],
   "source": []
  },
  {
   "cell_type": "code",
   "execution_count": null,
   "metadata": {},
   "outputs": [],
   "source": []
  },
  {
   "cell_type": "code",
   "execution_count": null,
   "metadata": {},
   "outputs": [],
   "source": []
  }
 ],
 "metadata": {
  "kernelspec": {
   "display_name": "Python 3",
   "language": "python",
   "name": "python3"
  },
  "language_info": {
   "codemirror_mode": {
    "name": "ipython",
    "version": 3
   },
   "file_extension": ".py",
   "mimetype": "text/x-python",
   "name": "python",
   "nbconvert_exporter": "python",
   "pygments_lexer": "ipython3",
   "version": "3.7.6"
  }
 },
 "nbformat": 4,
 "nbformat_minor": 2
}
